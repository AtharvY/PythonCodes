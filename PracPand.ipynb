{
 "cells": [
  {
   "cell_type": "code",
   "execution_count": 1,
   "id": "8534cb2d-f2f8-4bf1-b14b-6d5ba6f87a65",
   "metadata": {},
   "outputs": [],
   "source": [
    "import pandas as pd\n",
    "import numpy as np"
   ]
  },
  {
   "cell_type": "code",
   "execution_count": 2,
   "id": "1a178c9a-56fb-4c0b-ad59-34f4860c6345",
   "metadata": {},
   "outputs": [
    {
     "data": {
      "text/plain": [
       "{'name': ['sharma', 'yash', 'shivam', 'vaibhav'],\n",
       " 'marks': [78, 92, 93, 79],\n",
       " 'city': ['ahmedabad', 'delhi', 'ranchi', 'hyderabad']}"
      ]
     },
     "execution_count": 2,
     "metadata": {},
     "output_type": "execute_result"
    }
   ],
   "source": [
    "dic1={\n",
    "    \"name\":['sharma','yash','shivam','vaibhav'],\n",
    "    \"marks\":[78,92,93,79],\n",
    "    \"city\":['ahmedabad','delhi','ranchi','hyderabad']\n",
    "}\n",
    "dic1"
   ]
  },
  {
   "cell_type": "code",
   "execution_count": 3,
   "id": "01ee5fd1-46f0-4704-bdc1-afbc2e5c5db6",
   "metadata": {},
   "outputs": [
    {
     "data": {
      "text/html": [
       "<div>\n",
       "<style scoped>\n",
       "    .dataframe tbody tr th:only-of-type {\n",
       "        vertical-align: middle;\n",
       "    }\n",
       "\n",
       "    .dataframe tbody tr th {\n",
       "        vertical-align: top;\n",
       "    }\n",
       "\n",
       "    .dataframe thead th {\n",
       "        text-align: right;\n",
       "    }\n",
       "</style>\n",
       "<table border=\"1\" class=\"dataframe\">\n",
       "  <thead>\n",
       "    <tr style=\"text-align: right;\">\n",
       "      <th></th>\n",
       "      <th>name</th>\n",
       "      <th>marks</th>\n",
       "      <th>city</th>\n",
       "    </tr>\n",
       "  </thead>\n",
       "  <tbody>\n",
       "    <tr>\n",
       "      <th>0</th>\n",
       "      <td>sharma</td>\n",
       "      <td>78</td>\n",
       "      <td>ahmedabad</td>\n",
       "    </tr>\n",
       "    <tr>\n",
       "      <th>1</th>\n",
       "      <td>yash</td>\n",
       "      <td>92</td>\n",
       "      <td>delhi</td>\n",
       "    </tr>\n",
       "    <tr>\n",
       "      <th>2</th>\n",
       "      <td>shivam</td>\n",
       "      <td>93</td>\n",
       "      <td>ranchi</td>\n",
       "    </tr>\n",
       "    <tr>\n",
       "      <th>3</th>\n",
       "      <td>vaibhav</td>\n",
       "      <td>79</td>\n",
       "      <td>hyderabad</td>\n",
       "    </tr>\n",
       "  </tbody>\n",
       "</table>\n",
       "</div>"
      ],
      "text/plain": [
       "      name  marks       city\n",
       "0   sharma     78  ahmedabad\n",
       "1     yash     92      delhi\n",
       "2   shivam     93     ranchi\n",
       "3  vaibhav     79  hyderabad"
      ]
     },
     "execution_count": 3,
     "metadata": {},
     "output_type": "execute_result"
    }
   ],
   "source": [
    "df=pd.DataFrame(dic1)\n",
    "df #DataFrame helps in fetching the data in a tabular form"
   ]
  },
  {
   "cell_type": "code",
   "execution_count": 4,
   "id": "dae98a1f-eac2-43d4-bc86-e50450e90103",
   "metadata": {},
   "outputs": [],
   "source": [
    "df.to_csv('freinds.csv') #converts into csv file"
   ]
  },
  {
   "cell_type": "code",
   "execution_count": 5,
   "id": "f8c430bb-e8fb-4ebf-b04e-80807034dea7",
   "metadata": {},
   "outputs": [],
   "source": [
    "df.to_csv('friends_no_index.csv', index=False)  #converts into csv file without index"
   ]
  },
  {
   "cell_type": "code",
   "execution_count": 6,
   "id": "22d08169-d79b-44e1-9847-992507b8dbc9",
   "metadata": {},
   "outputs": [
    {
     "data": {
      "text/html": [
       "<div>\n",
       "<style scoped>\n",
       "    .dataframe tbody tr th:only-of-type {\n",
       "        vertical-align: middle;\n",
       "    }\n",
       "\n",
       "    .dataframe tbody tr th {\n",
       "        vertical-align: top;\n",
       "    }\n",
       "\n",
       "    .dataframe thead th {\n",
       "        text-align: right;\n",
       "    }\n",
       "</style>\n",
       "<table border=\"1\" class=\"dataframe\">\n",
       "  <thead>\n",
       "    <tr style=\"text-align: right;\">\n",
       "      <th></th>\n",
       "      <th>name</th>\n",
       "      <th>marks</th>\n",
       "      <th>city</th>\n",
       "    </tr>\n",
       "  </thead>\n",
       "  <tbody>\n",
       "    <tr>\n",
       "      <th>0</th>\n",
       "      <td>sharma</td>\n",
       "      <td>78</td>\n",
       "      <td>ahmedabad</td>\n",
       "    </tr>\n",
       "    <tr>\n",
       "      <th>1</th>\n",
       "      <td>yash</td>\n",
       "      <td>92</td>\n",
       "      <td>delhi</td>\n",
       "    </tr>\n",
       "    <tr>\n",
       "      <th>2</th>\n",
       "      <td>shivam</td>\n",
       "      <td>93</td>\n",
       "      <td>ranchi</td>\n",
       "    </tr>\n",
       "  </tbody>\n",
       "</table>\n",
       "</div>"
      ],
      "text/plain": [
       "     name  marks       city\n",
       "0  sharma     78  ahmedabad\n",
       "1    yash     92      delhi\n",
       "2  shivam     93     ranchi"
      ]
     },
     "execution_count": 6,
     "metadata": {},
     "output_type": "execute_result"
    }
   ],
   "source": [
    "df.head(3) #head() shows the data from top"
   ]
  },
  {
   "cell_type": "code",
   "execution_count": 7,
   "id": "26e0ee97-9f96-4c38-a6e4-3ad189b90178",
   "metadata": {},
   "outputs": [
    {
     "data": {
      "text/html": [
       "<div>\n",
       "<style scoped>\n",
       "    .dataframe tbody tr th:only-of-type {\n",
       "        vertical-align: middle;\n",
       "    }\n",
       "\n",
       "    .dataframe tbody tr th {\n",
       "        vertical-align: top;\n",
       "    }\n",
       "\n",
       "    .dataframe thead th {\n",
       "        text-align: right;\n",
       "    }\n",
       "</style>\n",
       "<table border=\"1\" class=\"dataframe\">\n",
       "  <thead>\n",
       "    <tr style=\"text-align: right;\">\n",
       "      <th></th>\n",
       "      <th>name</th>\n",
       "      <th>marks</th>\n",
       "      <th>city</th>\n",
       "    </tr>\n",
       "  </thead>\n",
       "  <tbody>\n",
       "    <tr>\n",
       "      <th>2</th>\n",
       "      <td>shivam</td>\n",
       "      <td>93</td>\n",
       "      <td>ranchi</td>\n",
       "    </tr>\n",
       "    <tr>\n",
       "      <th>3</th>\n",
       "      <td>vaibhav</td>\n",
       "      <td>79</td>\n",
       "      <td>hyderabad</td>\n",
       "    </tr>\n",
       "  </tbody>\n",
       "</table>\n",
       "</div>"
      ],
      "text/plain": [
       "      name  marks       city\n",
       "2   shivam     93     ranchi\n",
       "3  vaibhav     79  hyderabad"
      ]
     },
     "execution_count": 7,
     "metadata": {},
     "output_type": "execute_result"
    }
   ],
   "source": [
    "df.tail(2) #tail() shows the data from below"
   ]
  },
  {
   "cell_type": "code",
   "execution_count": 8,
   "id": "0cfdf6cd-c751-46b3-b593-d71e44a067f1",
   "metadata": {},
   "outputs": [
    {
     "data": {
      "text/html": [
       "<div>\n",
       "<style scoped>\n",
       "    .dataframe tbody tr th:only-of-type {\n",
       "        vertical-align: middle;\n",
       "    }\n",
       "\n",
       "    .dataframe tbody tr th {\n",
       "        vertical-align: top;\n",
       "    }\n",
       "\n",
       "    .dataframe thead th {\n",
       "        text-align: right;\n",
       "    }\n",
       "</style>\n",
       "<table border=\"1\" class=\"dataframe\">\n",
       "  <thead>\n",
       "    <tr style=\"text-align: right;\">\n",
       "      <th></th>\n",
       "      <th>marks</th>\n",
       "    </tr>\n",
       "  </thead>\n",
       "  <tbody>\n",
       "    <tr>\n",
       "      <th>count</th>\n",
       "      <td>4.000000</td>\n",
       "    </tr>\n",
       "    <tr>\n",
       "      <th>mean</th>\n",
       "      <td>85.500000</td>\n",
       "    </tr>\n",
       "    <tr>\n",
       "      <th>std</th>\n",
       "      <td>8.103497</td>\n",
       "    </tr>\n",
       "    <tr>\n",
       "      <th>min</th>\n",
       "      <td>78.000000</td>\n",
       "    </tr>\n",
       "    <tr>\n",
       "      <th>25%</th>\n",
       "      <td>78.750000</td>\n",
       "    </tr>\n",
       "    <tr>\n",
       "      <th>50%</th>\n",
       "      <td>85.500000</td>\n",
       "    </tr>\n",
       "    <tr>\n",
       "      <th>75%</th>\n",
       "      <td>92.250000</td>\n",
       "    </tr>\n",
       "    <tr>\n",
       "      <th>max</th>\n",
       "      <td>93.000000</td>\n",
       "    </tr>\n",
       "  </tbody>\n",
       "</table>\n",
       "</div>"
      ],
      "text/plain": [
       "           marks\n",
       "count   4.000000\n",
       "mean   85.500000\n",
       "std     8.103497\n",
       "min    78.000000\n",
       "25%    78.750000\n",
       "50%    85.500000\n",
       "75%    92.250000\n",
       "max    93.000000"
      ]
     },
     "execution_count": 8,
     "metadata": {},
     "output_type": "execute_result"
    }
   ],
   "source": [
    "df.describe() #describe() does the statistical analysis for the given data"
   ]
  },
  {
   "cell_type": "code",
   "execution_count": 9,
   "id": "bb88f8fd-a24c-4e9b-89ee-6575f3ade2a4",
   "metadata": {},
   "outputs": [
    {
     "data": {
      "text/html": [
       "<div>\n",
       "<style scoped>\n",
       "    .dataframe tbody tr th:only-of-type {\n",
       "        vertical-align: middle;\n",
       "    }\n",
       "\n",
       "    .dataframe tbody tr th {\n",
       "        vertical-align: top;\n",
       "    }\n",
       "\n",
       "    .dataframe thead th {\n",
       "        text-align: right;\n",
       "    }\n",
       "</style>\n",
       "<table border=\"1\" class=\"dataframe\">\n",
       "  <thead>\n",
       "    <tr style=\"text-align: right;\">\n",
       "      <th></th>\n",
       "      <th>Train2</th>\n",
       "      <th>Speed2</th>\n",
       "      <th>City3</th>\n",
       "    </tr>\n",
       "  </thead>\n",
       "  <tbody>\n",
       "    <tr>\n",
       "      <th>0</th>\n",
       "      <td>1235</td>\n",
       "      <td>100</td>\n",
       "      <td>Diu</td>\n",
       "    </tr>\n",
       "    <tr>\n",
       "      <th>1</th>\n",
       "      <td>1234578</td>\n",
       "      <td>153</td>\n",
       "      <td>Pune</td>\n",
       "    </tr>\n",
       "    <tr>\n",
       "      <th>2</th>\n",
       "      <td>1202544</td>\n",
       "      <td>162</td>\n",
       "      <td>Hyd</td>\n",
       "    </tr>\n",
       "    <tr>\n",
       "      <th>3</th>\n",
       "      <td>1235986</td>\n",
       "      <td>170</td>\n",
       "      <td>Amd</td>\n",
       "    </tr>\n",
       "    <tr>\n",
       "      <th>4</th>\n",
       "      <td>1457678</td>\n",
       "      <td>140</td>\n",
       "      <td>Delhi</td>\n",
       "    </tr>\n",
       "  </tbody>\n",
       "</table>\n",
       "</div>"
      ],
      "text/plain": [
       "    Train2  Speed2  City3\n",
       "0     1235     100    Diu\n",
       "1  1234578     153   Pune\n",
       "2  1202544     162    Hyd\n",
       "3  1235986     170    Amd\n",
       "4  1457678     140  Delhi"
      ]
     },
     "execution_count": 9,
     "metadata": {},
     "output_type": "execute_result"
    }
   ],
   "source": [
    "sharma=pd.read_csv('sharma.csv')\n",
    "sharma #converts excel to ds"
   ]
  },
  {
   "cell_type": "code",
   "execution_count": 10,
   "id": "2a126d76-1c67-4fa8-b7c2-9b6addad6902",
   "metadata": {},
   "outputs": [
    {
     "name": "stderr",
     "output_type": "stream",
     "text": [
      "C:\\Users\\priya\\AppData\\Local\\Temp\\ipykernel_23456\\1751315379.py:1: SettingWithCopyWarning: \n",
      "A value is trying to be set on a copy of a slice from a DataFrame\n",
      "\n",
      "See the caveats in the documentation: https://pandas.pydata.org/pandas-docs/stable/user_guide/indexing.html#returning-a-view-versus-a-copy\n",
      "  sharma[\"Speed2\"][0]=100 #changes the the value of selected column \"[coloumn][index]\"\n"
     ]
    }
   ],
   "source": [
    "sharma[\"Speed2\"][0]=100 #changes the the value of selected column \"[coloumn][index]\""
   ]
  },
  {
   "cell_type": "code",
   "execution_count": 11,
   "id": "4bd0c351-1690-423f-8643-3c6769862252",
   "metadata": {},
   "outputs": [
    {
     "data": {
      "text/html": [
       "<div>\n",
       "<style scoped>\n",
       "    .dataframe tbody tr th:only-of-type {\n",
       "        vertical-align: middle;\n",
       "    }\n",
       "\n",
       "    .dataframe tbody tr th {\n",
       "        vertical-align: top;\n",
       "    }\n",
       "\n",
       "    .dataframe thead th {\n",
       "        text-align: right;\n",
       "    }\n",
       "</style>\n",
       "<table border=\"1\" class=\"dataframe\">\n",
       "  <thead>\n",
       "    <tr style=\"text-align: right;\">\n",
       "      <th></th>\n",
       "      <th>Train2</th>\n",
       "      <th>Speed2</th>\n",
       "      <th>City3</th>\n",
       "    </tr>\n",
       "  </thead>\n",
       "  <tbody>\n",
       "    <tr>\n",
       "      <th>0</th>\n",
       "      <td>1235</td>\n",
       "      <td>100</td>\n",
       "      <td>Diu</td>\n",
       "    </tr>\n",
       "    <tr>\n",
       "      <th>1</th>\n",
       "      <td>1234578</td>\n",
       "      <td>153</td>\n",
       "      <td>Pune</td>\n",
       "    </tr>\n",
       "    <tr>\n",
       "      <th>2</th>\n",
       "      <td>1202544</td>\n",
       "      <td>162</td>\n",
       "      <td>Hyd</td>\n",
       "    </tr>\n",
       "    <tr>\n",
       "      <th>3</th>\n",
       "      <td>1235986</td>\n",
       "      <td>170</td>\n",
       "      <td>Amd</td>\n",
       "    </tr>\n",
       "    <tr>\n",
       "      <th>4</th>\n",
       "      <td>1457678</td>\n",
       "      <td>140</td>\n",
       "      <td>Delhi</td>\n",
       "    </tr>\n",
       "  </tbody>\n",
       "</table>\n",
       "</div>"
      ],
      "text/plain": [
       "    Train2  Speed2  City3\n",
       "0     1235     100    Diu\n",
       "1  1234578     153   Pune\n",
       "2  1202544     162    Hyd\n",
       "3  1235986     170    Amd\n",
       "4  1457678     140  Delhi"
      ]
     },
     "execution_count": 11,
     "metadata": {},
     "output_type": "execute_result"
    }
   ],
   "source": [
    "sharma"
   ]
  },
  {
   "cell_type": "code",
   "execution_count": 12,
   "id": "874338a9-8799-4c0c-980c-8eff26a7f28d",
   "metadata": {},
   "outputs": [
    {
     "data": {
      "text/html": [
       "<div>\n",
       "<style scoped>\n",
       "    .dataframe tbody tr th:only-of-type {\n",
       "        vertical-align: middle;\n",
       "    }\n",
       "\n",
       "    .dataframe tbody tr th {\n",
       "        vertical-align: top;\n",
       "    }\n",
       "\n",
       "    .dataframe thead th {\n",
       "        text-align: right;\n",
       "    }\n",
       "</style>\n",
       "<table border=\"1\" class=\"dataframe\">\n",
       "  <thead>\n",
       "    <tr style=\"text-align: right;\">\n",
       "      <th></th>\n",
       "      <th>Train2</th>\n",
       "      <th>Speed2</th>\n",
       "      <th>City3</th>\n",
       "    </tr>\n",
       "  </thead>\n",
       "  <tbody>\n",
       "    <tr>\n",
       "      <th>0</th>\n",
       "      <td>1235</td>\n",
       "      <td>100</td>\n",
       "      <td>Diu</td>\n",
       "    </tr>\n",
       "    <tr>\n",
       "      <th>1</th>\n",
       "      <td>1234578</td>\n",
       "      <td>153</td>\n",
       "      <td>Pune</td>\n",
       "    </tr>\n",
       "    <tr>\n",
       "      <th>2</th>\n",
       "      <td>1202544</td>\n",
       "      <td>162</td>\n",
       "      <td>Hyd</td>\n",
       "    </tr>\n",
       "    <tr>\n",
       "      <th>3</th>\n",
       "      <td>1235986</td>\n",
       "      <td>170</td>\n",
       "      <td>Amd</td>\n",
       "    </tr>\n",
       "    <tr>\n",
       "      <th>4</th>\n",
       "      <td>1457678</td>\n",
       "      <td>140</td>\n",
       "      <td>Delhi</td>\n",
       "    </tr>\n",
       "  </tbody>\n",
       "</table>\n",
       "</div>"
      ],
      "text/plain": [
       "    Train2  Speed2  City3\n",
       "0     1235     100    Diu\n",
       "1  1234578     153   Pune\n",
       "2  1202544     162    Hyd\n",
       "3  1235986     170    Amd\n",
       "4  1457678     140  Delhi"
      ]
     },
     "execution_count": 12,
     "metadata": {},
     "output_type": "execute_result"
    }
   ],
   "source": [
    "sharma.to_csv('sharma.csv', index=False)\n",
    "sharma #again changes into excel with update"
   ]
  },
  {
   "cell_type": "markdown",
   "id": "41964343-fd63-4849-adab-bdefb55b7bbb",
   "metadata": {},
   "source": [
    "Series- A one dimensional array with indexes it stores a single column or row of data\n",
    "\n",
    "\n",
    "DataFrame- A tabular spreadsheet like structures representing rows each of which contains one or multiple columns"
   ]
  },
  {
   "cell_type": "code",
   "execution_count": 13,
   "id": "ceb4b084-0a2c-44ab-9fe7-284cb592db7b",
   "metadata": {},
   "outputs": [
    {
     "data": {
      "text/plain": [
       "0     0.471506\n",
       "1     0.344266\n",
       "2     0.416440\n",
       "3     0.534148\n",
       "4     0.367120\n",
       "5     0.025680\n",
       "6     0.187969\n",
       "7     0.992907\n",
       "8     0.859762\n",
       "9     0.054796\n",
       "10    0.140825\n",
       "11    0.237906\n",
       "12    0.556767\n",
       "13    0.824083\n",
       "14    0.566278\n",
       "15    0.788158\n",
       "16    0.471180\n",
       "17    0.661885\n",
       "18    0.886782\n",
       "19    0.064613\n",
       "20    0.376623\n",
       "21    0.512619\n",
       "22    0.957847\n",
       "23    0.165417\n",
       "24    0.742082\n",
       "25    0.283041\n",
       "26    0.379299\n",
       "27    0.041550\n",
       "28    0.794892\n",
       "29    0.708822\n",
       "30    0.681508\n",
       "31    0.124104\n",
       "32    0.649477\n",
       "33    0.257608\n",
       "dtype: float64"
      ]
     },
     "execution_count": 13,
     "metadata": {},
     "output_type": "execute_result"
    }
   ],
   "source": [
    "ser=pd.Series(np.random.rand(34)) \n",
    "ser #prints data in series randomly"
   ]
  },
  {
   "cell_type": "code",
   "execution_count": 14,
   "id": "6ba11ed9-fd65-40cb-ae1a-3e9051fee846",
   "metadata": {},
   "outputs": [
    {
     "data": {
      "text/plain": [
       "pandas.core.series.Series"
      ]
     },
     "execution_count": 14,
     "metadata": {},
     "output_type": "execute_result"
    }
   ],
   "source": [
    "type(ser)"
   ]
  },
  {
   "cell_type": "code",
   "execution_count": 15,
   "id": "7eb70b1f-3df3-46a1-97e0-faa219ca9345",
   "metadata": {},
   "outputs": [
    {
     "name": "stdout",
     "output_type": "stream",
     "text": [
      "           0         1         2         3         4         5\n",
      "0   0.700794  0.471578  0.615197  0.804065  0.026324  0.539946\n",
      "1   0.152460  0.850296  0.637400  0.430813  0.492526  0.522564\n",
      "2   0.185187  0.809351  0.435745  0.260893  0.375487  0.363387\n",
      "3   0.133920  0.719413  0.922244  0.669977  0.664122  0.726106\n",
      "4   0.890572  0.003876  0.425399  0.874179  0.269399  0.819612\n",
      "5   0.203559  0.207687  0.861068  0.699387  0.971173  0.597723\n",
      "6   0.183604  0.306668  0.802689  0.856355  0.393265  0.283160\n",
      "7   0.690463  0.606402  0.204755  0.429203  0.368560  0.897263\n",
      "8   0.108099  0.492838  0.210553  0.116433  0.011098  0.745457\n",
      "9   0.028392  0.048839  0.101186  0.988195  0.943442  0.215669\n",
      "10  0.036461  0.541252  0.901235  0.557388  0.002197  0.407329\n",
      "11  0.874658  0.235869  0.737447  0.019544  0.007838  0.271250\n"
     ]
    }
   ],
   "source": [
    "newdf=pd.DataFrame(np.random.rand(12,6))\n",
    "print(newdf) #prints data in dataframe randomly"
   ]
  },
  {
   "cell_type": "code",
   "execution_count": 16,
   "id": "7ff5b099-98fd-4e4f-9e18-76b990e78327",
   "metadata": {},
   "outputs": [
    {
     "name": "stdout",
     "output_type": "stream",
     "text": [
      "          0         1         2         3         4         5\n",
      "0  0.700794  0.471578  0.615197  0.804065  0.026324  0.539946\n",
      "1  0.152460  0.850296  0.637400  0.430813  0.492526  0.522564\n",
      "2  0.185187  0.809351  0.435745  0.260893  0.375487  0.363387\n",
      "3  0.133920  0.719413  0.922244  0.669977  0.664122  0.726106\n",
      "4  0.890572  0.003876  0.425399  0.874179  0.269399  0.819612\n"
     ]
    }
   ],
   "source": [
    "print(newdf.head()) #prints data from top"
   ]
  },
  {
   "cell_type": "code",
   "execution_count": 17,
   "id": "5a3320aa-ea32-44c1-81eb-c2419ea2e2bf",
   "metadata": {},
   "outputs": [
    {
     "data": {
      "text/plain": [
       "pandas.core.frame.DataFrame"
      ]
     },
     "execution_count": 17,
     "metadata": {},
     "output_type": "execute_result"
    }
   ],
   "source": [
    "type(newdf)"
   ]
  },
  {
   "cell_type": "code",
   "execution_count": 18,
   "id": "e0f258ee-849d-4814-891f-168cbbb775b9",
   "metadata": {},
   "outputs": [
    {
     "data": {
      "text/html": [
       "<div>\n",
       "<style scoped>\n",
       "    .dataframe tbody tr th:only-of-type {\n",
       "        vertical-align: middle;\n",
       "    }\n",
       "\n",
       "    .dataframe tbody tr th {\n",
       "        vertical-align: top;\n",
       "    }\n",
       "\n",
       "    .dataframe thead th {\n",
       "        text-align: right;\n",
       "    }\n",
       "</style>\n",
       "<table border=\"1\" class=\"dataframe\">\n",
       "  <thead>\n",
       "    <tr style=\"text-align: right;\">\n",
       "      <th></th>\n",
       "      <th>0</th>\n",
       "      <th>1</th>\n",
       "      <th>2</th>\n",
       "      <th>3</th>\n",
       "      <th>4</th>\n",
       "      <th>5</th>\n",
       "    </tr>\n",
       "  </thead>\n",
       "  <tbody>\n",
       "    <tr>\n",
       "      <th>count</th>\n",
       "      <td>12.000000</td>\n",
       "      <td>12.000000</td>\n",
       "      <td>12.000000</td>\n",
       "      <td>12.000000</td>\n",
       "      <td>12.000000</td>\n",
       "      <td>12.000000</td>\n",
       "    </tr>\n",
       "    <tr>\n",
       "      <th>mean</th>\n",
       "      <td>0.349014</td>\n",
       "      <td>0.441172</td>\n",
       "      <td>0.571243</td>\n",
       "      <td>0.558869</td>\n",
       "      <td>0.377119</td>\n",
       "      <td>0.532456</td>\n",
       "    </tr>\n",
       "    <tr>\n",
       "      <th>std</th>\n",
       "      <td>0.334216</td>\n",
       "      <td>0.283031</td>\n",
       "      <td>0.290546</td>\n",
       "      <td>0.312334</td>\n",
       "      <td>0.345782</td>\n",
       "      <td>0.229188</td>\n",
       "    </tr>\n",
       "    <tr>\n",
       "      <th>min</th>\n",
       "      <td>0.028392</td>\n",
       "      <td>0.003876</td>\n",
       "      <td>0.101186</td>\n",
       "      <td>0.019544</td>\n",
       "      <td>0.002197</td>\n",
       "      <td>0.215669</td>\n",
       "    </tr>\n",
       "    <tr>\n",
       "      <th>25%</th>\n",
       "      <td>0.127465</td>\n",
       "      <td>0.228824</td>\n",
       "      <td>0.371688</td>\n",
       "      <td>0.387126</td>\n",
       "      <td>0.022517</td>\n",
       "      <td>0.343331</td>\n",
       "    </tr>\n",
       "    <tr>\n",
       "      <th>50%</th>\n",
       "      <td>0.184395</td>\n",
       "      <td>0.482208</td>\n",
       "      <td>0.626298</td>\n",
       "      <td>0.613683</td>\n",
       "      <td>0.372023</td>\n",
       "      <td>0.531255</td>\n",
       "    </tr>\n",
       "    <tr>\n",
       "      <th>75%</th>\n",
       "      <td>0.693046</td>\n",
       "      <td>0.634654</td>\n",
       "      <td>0.817284</td>\n",
       "      <td>0.817138</td>\n",
       "      <td>0.535425</td>\n",
       "      <td>0.730944</td>\n",
       "    </tr>\n",
       "    <tr>\n",
       "      <th>max</th>\n",
       "      <td>0.890572</td>\n",
       "      <td>0.850296</td>\n",
       "      <td>0.922244</td>\n",
       "      <td>0.988195</td>\n",
       "      <td>0.971173</td>\n",
       "      <td>0.897263</td>\n",
       "    </tr>\n",
       "  </tbody>\n",
       "</table>\n",
       "</div>"
      ],
      "text/plain": [
       "               0          1          2          3          4          5\n",
       "count  12.000000  12.000000  12.000000  12.000000  12.000000  12.000000\n",
       "mean    0.349014   0.441172   0.571243   0.558869   0.377119   0.532456\n",
       "std     0.334216   0.283031   0.290546   0.312334   0.345782   0.229188\n",
       "min     0.028392   0.003876   0.101186   0.019544   0.002197   0.215669\n",
       "25%     0.127465   0.228824   0.371688   0.387126   0.022517   0.343331\n",
       "50%     0.184395   0.482208   0.626298   0.613683   0.372023   0.531255\n",
       "75%     0.693046   0.634654   0.817284   0.817138   0.535425   0.730944\n",
       "max     0.890572   0.850296   0.922244   0.988195   0.971173   0.897263"
      ]
     },
     "execution_count": 18,
     "metadata": {},
     "output_type": "execute_result"
    }
   ],
   "source": [
    "newdf.describe()"
   ]
  },
  {
   "cell_type": "code",
   "execution_count": 19,
   "id": "36860098-55f6-4424-99ad-799297aeebd2",
   "metadata": {},
   "outputs": [
    {
     "data": {
      "text/plain": [
       "0    float64\n",
       "1    float64\n",
       "2    float64\n",
       "3    float64\n",
       "4    float64\n",
       "5    float64\n",
       "dtype: object"
      ]
     },
     "execution_count": 19,
     "metadata": {},
     "output_type": "execute_result"
    }
   ],
   "source": [
    "newdf.dtypes"
   ]
  },
  {
   "cell_type": "code",
   "execution_count": 20,
   "id": "2f80add2-afa7-4aa2-803f-266f32eaa0da",
   "metadata": {},
   "outputs": [
    {
     "data": {
      "text/plain": [
       "RangeIndex(start=0, stop=12, step=1)"
      ]
     },
     "execution_count": 20,
     "metadata": {},
     "output_type": "execute_result"
    }
   ],
   "source": [
    "newdf.index #prints index of the dataframe"
   ]
  },
  {
   "cell_type": "code",
   "execution_count": 21,
   "id": "7b693172-f0c2-451f-92b4-1ef337d24acd",
   "metadata": {},
   "outputs": [
    {
     "data": {
      "text/plain": [
       "RangeIndex(start=0, stop=6, step=1)"
      ]
     },
     "execution_count": 21,
     "metadata": {},
     "output_type": "execute_result"
    }
   ],
   "source": [
    "newdf.columns #prints columns of the dataframe"
   ]
  },
  {
   "cell_type": "code",
   "execution_count": 22,
   "id": "d01e880f-bcb3-4f15-b40b-06c05c27d361",
   "metadata": {},
   "outputs": [
    {
     "data": {
      "text/plain": [
       "array([[0.70079421, 0.47157824, 0.61519682, 0.80406498, 0.02632401,\n",
       "        0.5399462 ],\n",
       "       [0.15245967, 0.85029551, 0.6373999 , 0.43081315, 0.49252554,\n",
       "        0.52256364],\n",
       "       [0.18518704, 0.80935149, 0.43574486, 0.2608933 , 0.37548673,\n",
       "        0.36338735],\n",
       "       [0.13392   , 0.71941263, 0.92224376, 0.66997701, 0.66412174,\n",
       "        0.72610567],\n",
       "       [0.89057161, 0.00387629, 0.42539943, 0.87417878, 0.26939859,\n",
       "        0.81961166],\n",
       "       [0.20355905, 0.20768661, 0.86106807, 0.6993869 , 0.97117264,\n",
       "        0.59772321],\n",
       "       [0.18360392, 0.30666795, 0.80268892, 0.85635546, 0.39326524,\n",
       "        0.28316038],\n",
       "       [0.69046326, 0.60640167, 0.20475546, 0.42920346, 0.36855996,\n",
       "        0.89726338],\n",
       "       [0.10809892, 0.49283763, 0.21055318, 0.11643267, 0.01109765,\n",
       "        0.74545704],\n",
       "       [0.02839248, 0.04883938, 0.10118616, 0.98819512, 0.94344162,\n",
       "        0.21566862],\n",
       "       [0.03646096, 0.54125172, 0.90123541, 0.55738842, 0.00219708,\n",
       "        0.40732945],\n",
       "       [0.87465821, 0.23586941, 0.73744702, 0.01954421, 0.00783772,\n",
       "        0.27125019]])"
      ]
     },
     "execution_count": 22,
     "metadata": {},
     "output_type": "execute_result"
    }
   ],
   "source": [
    "newdf.to_numpy() #prints the df in the form of numpy"
   ]
  },
  {
   "cell_type": "code",
   "execution_count": 23,
   "id": "6d65bdb2-f2aa-4833-8bd7-5bbb924d7339",
   "metadata": {},
   "outputs": [
    {
     "data": {
      "text/html": [
       "<div>\n",
       "<style scoped>\n",
       "    .dataframe tbody tr th:only-of-type {\n",
       "        vertical-align: middle;\n",
       "    }\n",
       "\n",
       "    .dataframe tbody tr th {\n",
       "        vertical-align: top;\n",
       "    }\n",
       "\n",
       "    .dataframe thead th {\n",
       "        text-align: right;\n",
       "    }\n",
       "</style>\n",
       "<table border=\"1\" class=\"dataframe\">\n",
       "  <thead>\n",
       "    <tr style=\"text-align: right;\">\n",
       "      <th></th>\n",
       "      <th>0</th>\n",
       "      <th>1</th>\n",
       "      <th>2</th>\n",
       "      <th>3</th>\n",
       "      <th>4</th>\n",
       "      <th>5</th>\n",
       "      <th>6</th>\n",
       "      <th>7</th>\n",
       "      <th>8</th>\n",
       "      <th>9</th>\n",
       "      <th>10</th>\n",
       "      <th>11</th>\n",
       "    </tr>\n",
       "  </thead>\n",
       "  <tbody>\n",
       "    <tr>\n",
       "      <th>0</th>\n",
       "      <td>0.700794</td>\n",
       "      <td>0.152460</td>\n",
       "      <td>0.185187</td>\n",
       "      <td>0.133920</td>\n",
       "      <td>0.890572</td>\n",
       "      <td>0.203559</td>\n",
       "      <td>0.183604</td>\n",
       "      <td>0.690463</td>\n",
       "      <td>0.108099</td>\n",
       "      <td>0.028392</td>\n",
       "      <td>0.036461</td>\n",
       "      <td>0.874658</td>\n",
       "    </tr>\n",
       "    <tr>\n",
       "      <th>1</th>\n",
       "      <td>0.471578</td>\n",
       "      <td>0.850296</td>\n",
       "      <td>0.809351</td>\n",
       "      <td>0.719413</td>\n",
       "      <td>0.003876</td>\n",
       "      <td>0.207687</td>\n",
       "      <td>0.306668</td>\n",
       "      <td>0.606402</td>\n",
       "      <td>0.492838</td>\n",
       "      <td>0.048839</td>\n",
       "      <td>0.541252</td>\n",
       "      <td>0.235869</td>\n",
       "    </tr>\n",
       "    <tr>\n",
       "      <th>2</th>\n",
       "      <td>0.615197</td>\n",
       "      <td>0.637400</td>\n",
       "      <td>0.435745</td>\n",
       "      <td>0.922244</td>\n",
       "      <td>0.425399</td>\n",
       "      <td>0.861068</td>\n",
       "      <td>0.802689</td>\n",
       "      <td>0.204755</td>\n",
       "      <td>0.210553</td>\n",
       "      <td>0.101186</td>\n",
       "      <td>0.901235</td>\n",
       "      <td>0.737447</td>\n",
       "    </tr>\n",
       "    <tr>\n",
       "      <th>3</th>\n",
       "      <td>0.804065</td>\n",
       "      <td>0.430813</td>\n",
       "      <td>0.260893</td>\n",
       "      <td>0.669977</td>\n",
       "      <td>0.874179</td>\n",
       "      <td>0.699387</td>\n",
       "      <td>0.856355</td>\n",
       "      <td>0.429203</td>\n",
       "      <td>0.116433</td>\n",
       "      <td>0.988195</td>\n",
       "      <td>0.557388</td>\n",
       "      <td>0.019544</td>\n",
       "    </tr>\n",
       "    <tr>\n",
       "      <th>4</th>\n",
       "      <td>0.026324</td>\n",
       "      <td>0.492526</td>\n",
       "      <td>0.375487</td>\n",
       "      <td>0.664122</td>\n",
       "      <td>0.269399</td>\n",
       "      <td>0.971173</td>\n",
       "      <td>0.393265</td>\n",
       "      <td>0.368560</td>\n",
       "      <td>0.011098</td>\n",
       "      <td>0.943442</td>\n",
       "      <td>0.002197</td>\n",
       "      <td>0.007838</td>\n",
       "    </tr>\n",
       "    <tr>\n",
       "      <th>5</th>\n",
       "      <td>0.539946</td>\n",
       "      <td>0.522564</td>\n",
       "      <td>0.363387</td>\n",
       "      <td>0.726106</td>\n",
       "      <td>0.819612</td>\n",
       "      <td>0.597723</td>\n",
       "      <td>0.283160</td>\n",
       "      <td>0.897263</td>\n",
       "      <td>0.745457</td>\n",
       "      <td>0.215669</td>\n",
       "      <td>0.407329</td>\n",
       "      <td>0.271250</td>\n",
       "    </tr>\n",
       "  </tbody>\n",
       "</table>\n",
       "</div>"
      ],
      "text/plain": [
       "         0         1         2         3         4         5         6   \\\n",
       "0  0.700794  0.152460  0.185187  0.133920  0.890572  0.203559  0.183604   \n",
       "1  0.471578  0.850296  0.809351  0.719413  0.003876  0.207687  0.306668   \n",
       "2  0.615197  0.637400  0.435745  0.922244  0.425399  0.861068  0.802689   \n",
       "3  0.804065  0.430813  0.260893  0.669977  0.874179  0.699387  0.856355   \n",
       "4  0.026324  0.492526  0.375487  0.664122  0.269399  0.971173  0.393265   \n",
       "5  0.539946  0.522564  0.363387  0.726106  0.819612  0.597723  0.283160   \n",
       "\n",
       "         7         8         9         10        11  \n",
       "0  0.690463  0.108099  0.028392  0.036461  0.874658  \n",
       "1  0.606402  0.492838  0.048839  0.541252  0.235869  \n",
       "2  0.204755  0.210553  0.101186  0.901235  0.737447  \n",
       "3  0.429203  0.116433  0.988195  0.557388  0.019544  \n",
       "4  0.368560  0.011098  0.943442  0.002197  0.007838  \n",
       "5  0.897263  0.745457  0.215669  0.407329  0.271250  "
      ]
     },
     "execution_count": 23,
     "metadata": {},
     "output_type": "execute_result"
    }
   ],
   "source": [
    "newdf.T #transpose the df"
   ]
  },
  {
   "cell_type": "markdown",
   "id": "292d4dde-e5b3-4b0b-8497-dbfcd5181e46",
   "metadata": {},
   "source": [
    "sorts the df \n",
    "\n",
    "by default valure of ascending is false\n",
    "\n",
    "axis=0 is rows && axis=1 is columns\n"
   ]
  },
  {
   "cell_type": "code",
   "execution_count": 24,
   "id": "3e00391a-0f49-4d84-9aa2-4d84afe75257",
   "metadata": {},
   "outputs": [
    {
     "data": {
      "text/html": [
       "<div>\n",
       "<style scoped>\n",
       "    .dataframe tbody tr th:only-of-type {\n",
       "        vertical-align: middle;\n",
       "    }\n",
       "\n",
       "    .dataframe tbody tr th {\n",
       "        vertical-align: top;\n",
       "    }\n",
       "\n",
       "    .dataframe thead th {\n",
       "        text-align: right;\n",
       "    }\n",
       "</style>\n",
       "<table border=\"1\" class=\"dataframe\">\n",
       "  <thead>\n",
       "    <tr style=\"text-align: right;\">\n",
       "      <th></th>\n",
       "      <th>0</th>\n",
       "      <th>1</th>\n",
       "      <th>2</th>\n",
       "      <th>3</th>\n",
       "      <th>4</th>\n",
       "      <th>5</th>\n",
       "    </tr>\n",
       "  </thead>\n",
       "  <tbody>\n",
       "    <tr>\n",
       "      <th>11</th>\n",
       "      <td>0.874658</td>\n",
       "      <td>0.235869</td>\n",
       "      <td>0.737447</td>\n",
       "      <td>0.019544</td>\n",
       "      <td>0.007838</td>\n",
       "      <td>0.271250</td>\n",
       "    </tr>\n",
       "    <tr>\n",
       "      <th>10</th>\n",
       "      <td>0.036461</td>\n",
       "      <td>0.541252</td>\n",
       "      <td>0.901235</td>\n",
       "      <td>0.557388</td>\n",
       "      <td>0.002197</td>\n",
       "      <td>0.407329</td>\n",
       "    </tr>\n",
       "    <tr>\n",
       "      <th>9</th>\n",
       "      <td>0.028392</td>\n",
       "      <td>0.048839</td>\n",
       "      <td>0.101186</td>\n",
       "      <td>0.988195</td>\n",
       "      <td>0.943442</td>\n",
       "      <td>0.215669</td>\n",
       "    </tr>\n",
       "    <tr>\n",
       "      <th>8</th>\n",
       "      <td>0.108099</td>\n",
       "      <td>0.492838</td>\n",
       "      <td>0.210553</td>\n",
       "      <td>0.116433</td>\n",
       "      <td>0.011098</td>\n",
       "      <td>0.745457</td>\n",
       "    </tr>\n",
       "    <tr>\n",
       "      <th>7</th>\n",
       "      <td>0.690463</td>\n",
       "      <td>0.606402</td>\n",
       "      <td>0.204755</td>\n",
       "      <td>0.429203</td>\n",
       "      <td>0.368560</td>\n",
       "      <td>0.897263</td>\n",
       "    </tr>\n",
       "    <tr>\n",
       "      <th>6</th>\n",
       "      <td>0.183604</td>\n",
       "      <td>0.306668</td>\n",
       "      <td>0.802689</td>\n",
       "      <td>0.856355</td>\n",
       "      <td>0.393265</td>\n",
       "      <td>0.283160</td>\n",
       "    </tr>\n",
       "    <tr>\n",
       "      <th>5</th>\n",
       "      <td>0.203559</td>\n",
       "      <td>0.207687</td>\n",
       "      <td>0.861068</td>\n",
       "      <td>0.699387</td>\n",
       "      <td>0.971173</td>\n",
       "      <td>0.597723</td>\n",
       "    </tr>\n",
       "    <tr>\n",
       "      <th>4</th>\n",
       "      <td>0.890572</td>\n",
       "      <td>0.003876</td>\n",
       "      <td>0.425399</td>\n",
       "      <td>0.874179</td>\n",
       "      <td>0.269399</td>\n",
       "      <td>0.819612</td>\n",
       "    </tr>\n",
       "    <tr>\n",
       "      <th>3</th>\n",
       "      <td>0.133920</td>\n",
       "      <td>0.719413</td>\n",
       "      <td>0.922244</td>\n",
       "      <td>0.669977</td>\n",
       "      <td>0.664122</td>\n",
       "      <td>0.726106</td>\n",
       "    </tr>\n",
       "    <tr>\n",
       "      <th>2</th>\n",
       "      <td>0.185187</td>\n",
       "      <td>0.809351</td>\n",
       "      <td>0.435745</td>\n",
       "      <td>0.260893</td>\n",
       "      <td>0.375487</td>\n",
       "      <td>0.363387</td>\n",
       "    </tr>\n",
       "    <tr>\n",
       "      <th>1</th>\n",
       "      <td>0.152460</td>\n",
       "      <td>0.850296</td>\n",
       "      <td>0.637400</td>\n",
       "      <td>0.430813</td>\n",
       "      <td>0.492526</td>\n",
       "      <td>0.522564</td>\n",
       "    </tr>\n",
       "    <tr>\n",
       "      <th>0</th>\n",
       "      <td>0.700794</td>\n",
       "      <td>0.471578</td>\n",
       "      <td>0.615197</td>\n",
       "      <td>0.804065</td>\n",
       "      <td>0.026324</td>\n",
       "      <td>0.539946</td>\n",
       "    </tr>\n",
       "  </tbody>\n",
       "</table>\n",
       "</div>"
      ],
      "text/plain": [
       "           0         1         2         3         4         5\n",
       "11  0.874658  0.235869  0.737447  0.019544  0.007838  0.271250\n",
       "10  0.036461  0.541252  0.901235  0.557388  0.002197  0.407329\n",
       "9   0.028392  0.048839  0.101186  0.988195  0.943442  0.215669\n",
       "8   0.108099  0.492838  0.210553  0.116433  0.011098  0.745457\n",
       "7   0.690463  0.606402  0.204755  0.429203  0.368560  0.897263\n",
       "6   0.183604  0.306668  0.802689  0.856355  0.393265  0.283160\n",
       "5   0.203559  0.207687  0.861068  0.699387  0.971173  0.597723\n",
       "4   0.890572  0.003876  0.425399  0.874179  0.269399  0.819612\n",
       "3   0.133920  0.719413  0.922244  0.669977  0.664122  0.726106\n",
       "2   0.185187  0.809351  0.435745  0.260893  0.375487  0.363387\n",
       "1   0.152460  0.850296  0.637400  0.430813  0.492526  0.522564\n",
       "0   0.700794  0.471578  0.615197  0.804065  0.026324  0.539946"
      ]
     },
     "execution_count": 24,
     "metadata": {},
     "output_type": "execute_result"
    }
   ],
   "source": [
    "newdf.sort_index(axis=0, ascending=False)"
   ]
  },
  {
   "cell_type": "code",
   "execution_count": 25,
   "id": "eede5f26-4584-4b50-bcb8-90264dc0839f",
   "metadata": {},
   "outputs": [
    {
     "data": {
      "text/html": [
       "<div>\n",
       "<style scoped>\n",
       "    .dataframe tbody tr th:only-of-type {\n",
       "        vertical-align: middle;\n",
       "    }\n",
       "\n",
       "    .dataframe tbody tr th {\n",
       "        vertical-align: top;\n",
       "    }\n",
       "\n",
       "    .dataframe thead th {\n",
       "        text-align: right;\n",
       "    }\n",
       "</style>\n",
       "<table border=\"1\" class=\"dataframe\">\n",
       "  <thead>\n",
       "    <tr style=\"text-align: right;\">\n",
       "      <th></th>\n",
       "      <th>0</th>\n",
       "      <th>1</th>\n",
       "      <th>2</th>\n",
       "      <th>3</th>\n",
       "      <th>4</th>\n",
       "      <th>5</th>\n",
       "    </tr>\n",
       "  </thead>\n",
       "  <tbody>\n",
       "    <tr>\n",
       "      <th>0</th>\n",
       "      <td>0.700794</td>\n",
       "      <td>0.471578</td>\n",
       "      <td>0.615197</td>\n",
       "      <td>0.804065</td>\n",
       "      <td>0.026324</td>\n",
       "      <td>0.539946</td>\n",
       "    </tr>\n",
       "    <tr>\n",
       "      <th>1</th>\n",
       "      <td>0.152460</td>\n",
       "      <td>0.850296</td>\n",
       "      <td>0.637400</td>\n",
       "      <td>0.430813</td>\n",
       "      <td>0.492526</td>\n",
       "      <td>0.522564</td>\n",
       "    </tr>\n",
       "    <tr>\n",
       "      <th>2</th>\n",
       "      <td>0.185187</td>\n",
       "      <td>0.809351</td>\n",
       "      <td>0.435745</td>\n",
       "      <td>0.260893</td>\n",
       "      <td>0.375487</td>\n",
       "      <td>0.363387</td>\n",
       "    </tr>\n",
       "    <tr>\n",
       "      <th>3</th>\n",
       "      <td>0.133920</td>\n",
       "      <td>0.719413</td>\n",
       "      <td>0.922244</td>\n",
       "      <td>0.669977</td>\n",
       "      <td>0.664122</td>\n",
       "      <td>0.726106</td>\n",
       "    </tr>\n",
       "    <tr>\n",
       "      <th>4</th>\n",
       "      <td>0.890572</td>\n",
       "      <td>0.003876</td>\n",
       "      <td>0.425399</td>\n",
       "      <td>0.874179</td>\n",
       "      <td>0.269399</td>\n",
       "      <td>0.819612</td>\n",
       "    </tr>\n",
       "  </tbody>\n",
       "</table>\n",
       "</div>"
      ],
      "text/plain": [
       "          0         1         2         3         4         5\n",
       "0  0.700794  0.471578  0.615197  0.804065  0.026324  0.539946\n",
       "1  0.152460  0.850296  0.637400  0.430813  0.492526  0.522564\n",
       "2  0.185187  0.809351  0.435745  0.260893  0.375487  0.363387\n",
       "3  0.133920  0.719413  0.922244  0.669977  0.664122  0.726106\n",
       "4  0.890572  0.003876  0.425399  0.874179  0.269399  0.819612"
      ]
     },
     "execution_count": 25,
     "metadata": {},
     "output_type": "execute_result"
    }
   ],
   "source": [
    "newdf.head()"
   ]
  },
  {
   "cell_type": "code",
   "execution_count": 26,
   "id": "7edb15a5-a5e0-460b-98fb-f15f2034fe00",
   "metadata": {},
   "outputs": [
    {
     "data": {
      "text/plain": [
       "0     0.700794\n",
       "1     0.152460\n",
       "2     0.185187\n",
       "3     0.133920\n",
       "4     0.890572\n",
       "5     0.203559\n",
       "6     0.183604\n",
       "7     0.690463\n",
       "8     0.108099\n",
       "9     0.028392\n",
       "10    0.036461\n",
       "11    0.874658\n",
       "Name: 0, dtype: float64"
      ]
     },
     "execution_count": 26,
     "metadata": {},
     "output_type": "execute_result"
    }
   ],
   "source": [
    "newdf[0] #prints the selected data"
   ]
  },
  {
   "cell_type": "code",
   "execution_count": 27,
   "id": "9233afb3-542a-4346-b127-4b2dc930bf04",
   "metadata": {},
   "outputs": [
    {
     "data": {
      "text/plain": [
       "pandas.core.series.Series"
      ]
     },
     "execution_count": 27,
     "metadata": {},
     "output_type": "execute_result"
    }
   ],
   "source": [
    "type(newdf[0]) #defines that is is in series"
   ]
  },
  {
   "cell_type": "code",
   "execution_count": 28,
   "id": "ea1e9181-7c67-4586-b1d3-6248ab829ee7",
   "metadata": {},
   "outputs": [],
   "source": [
    "newdf2=newdf.copy() #copy the previous df"
   ]
  },
  {
   "cell_type": "code",
   "execution_count": 29,
   "id": "613e4bb9-28af-4e36-aef4-a4cffa0ce880",
   "metadata": {},
   "outputs": [],
   "source": [
    "newdf2[0][0]=12689"
   ]
  },
  {
   "cell_type": "code",
   "execution_count": 30,
   "id": "1d57a1ba-5ee0-4358-a92b-4b981d70e9c5",
   "metadata": {},
   "outputs": [
    {
     "data": {
      "text/html": [
       "<div>\n",
       "<style scoped>\n",
       "    .dataframe tbody tr th:only-of-type {\n",
       "        vertical-align: middle;\n",
       "    }\n",
       "\n",
       "    .dataframe tbody tr th {\n",
       "        vertical-align: top;\n",
       "    }\n",
       "\n",
       "    .dataframe thead th {\n",
       "        text-align: right;\n",
       "    }\n",
       "</style>\n",
       "<table border=\"1\" class=\"dataframe\">\n",
       "  <thead>\n",
       "    <tr style=\"text-align: right;\">\n",
       "      <th></th>\n",
       "      <th>0</th>\n",
       "      <th>1</th>\n",
       "      <th>2</th>\n",
       "      <th>3</th>\n",
       "      <th>4</th>\n",
       "      <th>5</th>\n",
       "    </tr>\n",
       "  </thead>\n",
       "  <tbody>\n",
       "    <tr>\n",
       "      <th>0</th>\n",
       "      <td>0.700794</td>\n",
       "      <td>0.471578</td>\n",
       "      <td>0.615197</td>\n",
       "      <td>0.804065</td>\n",
       "      <td>0.026324</td>\n",
       "      <td>0.539946</td>\n",
       "    </tr>\n",
       "    <tr>\n",
       "      <th>1</th>\n",
       "      <td>0.152460</td>\n",
       "      <td>0.850296</td>\n",
       "      <td>0.637400</td>\n",
       "      <td>0.430813</td>\n",
       "      <td>0.492526</td>\n",
       "      <td>0.522564</td>\n",
       "    </tr>\n",
       "    <tr>\n",
       "      <th>2</th>\n",
       "      <td>0.185187</td>\n",
       "      <td>0.809351</td>\n",
       "      <td>0.435745</td>\n",
       "      <td>0.260893</td>\n",
       "      <td>0.375487</td>\n",
       "      <td>0.363387</td>\n",
       "    </tr>\n",
       "    <tr>\n",
       "      <th>3</th>\n",
       "      <td>0.133920</td>\n",
       "      <td>0.719413</td>\n",
       "      <td>0.922244</td>\n",
       "      <td>0.669977</td>\n",
       "      <td>0.664122</td>\n",
       "      <td>0.726106</td>\n",
       "    </tr>\n",
       "    <tr>\n",
       "      <th>4</th>\n",
       "      <td>0.890572</td>\n",
       "      <td>0.003876</td>\n",
       "      <td>0.425399</td>\n",
       "      <td>0.874179</td>\n",
       "      <td>0.269399</td>\n",
       "      <td>0.819612</td>\n",
       "    </tr>\n",
       "    <tr>\n",
       "      <th>5</th>\n",
       "      <td>0.203559</td>\n",
       "      <td>0.207687</td>\n",
       "      <td>0.861068</td>\n",
       "      <td>0.699387</td>\n",
       "      <td>0.971173</td>\n",
       "      <td>0.597723</td>\n",
       "    </tr>\n",
       "    <tr>\n",
       "      <th>6</th>\n",
       "      <td>0.183604</td>\n",
       "      <td>0.306668</td>\n",
       "      <td>0.802689</td>\n",
       "      <td>0.856355</td>\n",
       "      <td>0.393265</td>\n",
       "      <td>0.283160</td>\n",
       "    </tr>\n",
       "    <tr>\n",
       "      <th>7</th>\n",
       "      <td>0.690463</td>\n",
       "      <td>0.606402</td>\n",
       "      <td>0.204755</td>\n",
       "      <td>0.429203</td>\n",
       "      <td>0.368560</td>\n",
       "      <td>0.897263</td>\n",
       "    </tr>\n",
       "    <tr>\n",
       "      <th>8</th>\n",
       "      <td>0.108099</td>\n",
       "      <td>0.492838</td>\n",
       "      <td>0.210553</td>\n",
       "      <td>0.116433</td>\n",
       "      <td>0.011098</td>\n",
       "      <td>0.745457</td>\n",
       "    </tr>\n",
       "    <tr>\n",
       "      <th>9</th>\n",
       "      <td>0.028392</td>\n",
       "      <td>0.048839</td>\n",
       "      <td>0.101186</td>\n",
       "      <td>0.988195</td>\n",
       "      <td>0.943442</td>\n",
       "      <td>0.215669</td>\n",
       "    </tr>\n",
       "    <tr>\n",
       "      <th>10</th>\n",
       "      <td>0.036461</td>\n",
       "      <td>0.541252</td>\n",
       "      <td>0.901235</td>\n",
       "      <td>0.557388</td>\n",
       "      <td>0.002197</td>\n",
       "      <td>0.407329</td>\n",
       "    </tr>\n",
       "    <tr>\n",
       "      <th>11</th>\n",
       "      <td>0.874658</td>\n",
       "      <td>0.235869</td>\n",
       "      <td>0.737447</td>\n",
       "      <td>0.019544</td>\n",
       "      <td>0.007838</td>\n",
       "      <td>0.271250</td>\n",
       "    </tr>\n",
       "  </tbody>\n",
       "</table>\n",
       "</div>"
      ],
      "text/plain": [
       "           0         1         2         3         4         5\n",
       "0   0.700794  0.471578  0.615197  0.804065  0.026324  0.539946\n",
       "1   0.152460  0.850296  0.637400  0.430813  0.492526  0.522564\n",
       "2   0.185187  0.809351  0.435745  0.260893  0.375487  0.363387\n",
       "3   0.133920  0.719413  0.922244  0.669977  0.664122  0.726106\n",
       "4   0.890572  0.003876  0.425399  0.874179  0.269399  0.819612\n",
       "5   0.203559  0.207687  0.861068  0.699387  0.971173  0.597723\n",
       "6   0.183604  0.306668  0.802689  0.856355  0.393265  0.283160\n",
       "7   0.690463  0.606402  0.204755  0.429203  0.368560  0.897263\n",
       "8   0.108099  0.492838  0.210553  0.116433  0.011098  0.745457\n",
       "9   0.028392  0.048839  0.101186  0.988195  0.943442  0.215669\n",
       "10  0.036461  0.541252  0.901235  0.557388  0.002197  0.407329\n",
       "11  0.874658  0.235869  0.737447  0.019544  0.007838  0.271250"
      ]
     },
     "execution_count": 30,
     "metadata": {},
     "output_type": "execute_result"
    }
   ],
   "source": [
    "newdf"
   ]
  },
  {
   "cell_type": "code",
   "execution_count": 31,
   "id": "526e072a-3415-4284-b9ce-015100ee9fa8",
   "metadata": {},
   "outputs": [
    {
     "data": {
      "text/html": [
       "<div>\n",
       "<style scoped>\n",
       "    .dataframe tbody tr th:only-of-type {\n",
       "        vertical-align: middle;\n",
       "    }\n",
       "\n",
       "    .dataframe tbody tr th {\n",
       "        vertical-align: top;\n",
       "    }\n",
       "\n",
       "    .dataframe thead th {\n",
       "        text-align: right;\n",
       "    }\n",
       "</style>\n",
       "<table border=\"1\" class=\"dataframe\">\n",
       "  <thead>\n",
       "    <tr style=\"text-align: right;\">\n",
       "      <th></th>\n",
       "      <th>0</th>\n",
       "      <th>1</th>\n",
       "      <th>2</th>\n",
       "      <th>3</th>\n",
       "      <th>4</th>\n",
       "      <th>5</th>\n",
       "    </tr>\n",
       "  </thead>\n",
       "  <tbody>\n",
       "    <tr>\n",
       "      <th>0</th>\n",
       "      <td>12689.000000</td>\n",
       "      <td>0.471578</td>\n",
       "      <td>0.615197</td>\n",
       "      <td>0.804065</td>\n",
       "      <td>0.026324</td>\n",
       "      <td>0.539946</td>\n",
       "    </tr>\n",
       "    <tr>\n",
       "      <th>1</th>\n",
       "      <td>0.152460</td>\n",
       "      <td>0.850296</td>\n",
       "      <td>0.637400</td>\n",
       "      <td>0.430813</td>\n",
       "      <td>0.492526</td>\n",
       "      <td>0.522564</td>\n",
       "    </tr>\n",
       "    <tr>\n",
       "      <th>2</th>\n",
       "      <td>0.185187</td>\n",
       "      <td>0.809351</td>\n",
       "      <td>0.435745</td>\n",
       "      <td>0.260893</td>\n",
       "      <td>0.375487</td>\n",
       "      <td>0.363387</td>\n",
       "    </tr>\n",
       "    <tr>\n",
       "      <th>3</th>\n",
       "      <td>0.133920</td>\n",
       "      <td>0.719413</td>\n",
       "      <td>0.922244</td>\n",
       "      <td>0.669977</td>\n",
       "      <td>0.664122</td>\n",
       "      <td>0.726106</td>\n",
       "    </tr>\n",
       "    <tr>\n",
       "      <th>4</th>\n",
       "      <td>0.890572</td>\n",
       "      <td>0.003876</td>\n",
       "      <td>0.425399</td>\n",
       "      <td>0.874179</td>\n",
       "      <td>0.269399</td>\n",
       "      <td>0.819612</td>\n",
       "    </tr>\n",
       "    <tr>\n",
       "      <th>5</th>\n",
       "      <td>0.203559</td>\n",
       "      <td>0.207687</td>\n",
       "      <td>0.861068</td>\n",
       "      <td>0.699387</td>\n",
       "      <td>0.971173</td>\n",
       "      <td>0.597723</td>\n",
       "    </tr>\n",
       "    <tr>\n",
       "      <th>6</th>\n",
       "      <td>0.183604</td>\n",
       "      <td>0.306668</td>\n",
       "      <td>0.802689</td>\n",
       "      <td>0.856355</td>\n",
       "      <td>0.393265</td>\n",
       "      <td>0.283160</td>\n",
       "    </tr>\n",
       "    <tr>\n",
       "      <th>7</th>\n",
       "      <td>0.690463</td>\n",
       "      <td>0.606402</td>\n",
       "      <td>0.204755</td>\n",
       "      <td>0.429203</td>\n",
       "      <td>0.368560</td>\n",
       "      <td>0.897263</td>\n",
       "    </tr>\n",
       "    <tr>\n",
       "      <th>8</th>\n",
       "      <td>0.108099</td>\n",
       "      <td>0.492838</td>\n",
       "      <td>0.210553</td>\n",
       "      <td>0.116433</td>\n",
       "      <td>0.011098</td>\n",
       "      <td>0.745457</td>\n",
       "    </tr>\n",
       "    <tr>\n",
       "      <th>9</th>\n",
       "      <td>0.028392</td>\n",
       "      <td>0.048839</td>\n",
       "      <td>0.101186</td>\n",
       "      <td>0.988195</td>\n",
       "      <td>0.943442</td>\n",
       "      <td>0.215669</td>\n",
       "    </tr>\n",
       "    <tr>\n",
       "      <th>10</th>\n",
       "      <td>0.036461</td>\n",
       "      <td>0.541252</td>\n",
       "      <td>0.901235</td>\n",
       "      <td>0.557388</td>\n",
       "      <td>0.002197</td>\n",
       "      <td>0.407329</td>\n",
       "    </tr>\n",
       "    <tr>\n",
       "      <th>11</th>\n",
       "      <td>0.874658</td>\n",
       "      <td>0.235869</td>\n",
       "      <td>0.737447</td>\n",
       "      <td>0.019544</td>\n",
       "      <td>0.007838</td>\n",
       "      <td>0.271250</td>\n",
       "    </tr>\n",
       "  </tbody>\n",
       "</table>\n",
       "</div>"
      ],
      "text/plain": [
       "               0         1         2         3         4         5\n",
       "0   12689.000000  0.471578  0.615197  0.804065  0.026324  0.539946\n",
       "1       0.152460  0.850296  0.637400  0.430813  0.492526  0.522564\n",
       "2       0.185187  0.809351  0.435745  0.260893  0.375487  0.363387\n",
       "3       0.133920  0.719413  0.922244  0.669977  0.664122  0.726106\n",
       "4       0.890572  0.003876  0.425399  0.874179  0.269399  0.819612\n",
       "5       0.203559  0.207687  0.861068  0.699387  0.971173  0.597723\n",
       "6       0.183604  0.306668  0.802689  0.856355  0.393265  0.283160\n",
       "7       0.690463  0.606402  0.204755  0.429203  0.368560  0.897263\n",
       "8       0.108099  0.492838  0.210553  0.116433  0.011098  0.745457\n",
       "9       0.028392  0.048839  0.101186  0.988195  0.943442  0.215669\n",
       "10      0.036461  0.541252  0.901235  0.557388  0.002197  0.407329\n",
       "11      0.874658  0.235869  0.737447  0.019544  0.007838  0.271250"
      ]
     },
     "execution_count": 31,
     "metadata": {},
     "output_type": "execute_result"
    }
   ],
   "source": [
    "newdf2"
   ]
  },
  {
   "cell_type": "code",
   "execution_count": 32,
   "id": "6d4d5867-97f1-4512-97a0-db8ef9fd7d13",
   "metadata": {},
   "outputs": [],
   "source": [
    "newdf.loc[0,0]=654 #allocates the value to location allocated"
   ]
  },
  {
   "cell_type": "code",
   "execution_count": 33,
   "id": "66e808ba-3509-48a5-8991-ad73fe318b83",
   "metadata": {},
   "outputs": [
    {
     "data": {
      "text/html": [
       "<div>\n",
       "<style scoped>\n",
       "    .dataframe tbody tr th:only-of-type {\n",
       "        vertical-align: middle;\n",
       "    }\n",
       "\n",
       "    .dataframe tbody tr th {\n",
       "        vertical-align: top;\n",
       "    }\n",
       "\n",
       "    .dataframe thead th {\n",
       "        text-align: right;\n",
       "    }\n",
       "</style>\n",
       "<table border=\"1\" class=\"dataframe\">\n",
       "  <thead>\n",
       "    <tr style=\"text-align: right;\">\n",
       "      <th></th>\n",
       "      <th>0</th>\n",
       "      <th>1</th>\n",
       "      <th>2</th>\n",
       "      <th>3</th>\n",
       "      <th>4</th>\n",
       "      <th>5</th>\n",
       "    </tr>\n",
       "  </thead>\n",
       "  <tbody>\n",
       "    <tr>\n",
       "      <th>0</th>\n",
       "      <td>654.00000</td>\n",
       "      <td>0.471578</td>\n",
       "      <td>0.615197</td>\n",
       "      <td>0.804065</td>\n",
       "      <td>0.026324</td>\n",
       "      <td>0.539946</td>\n",
       "    </tr>\n",
       "    <tr>\n",
       "      <th>1</th>\n",
       "      <td>0.15246</td>\n",
       "      <td>0.850296</td>\n",
       "      <td>0.637400</td>\n",
       "      <td>0.430813</td>\n",
       "      <td>0.492526</td>\n",
       "      <td>0.522564</td>\n",
       "    </tr>\n",
       "  </tbody>\n",
       "</table>\n",
       "</div>"
      ],
      "text/plain": [
       "           0         1         2         3         4         5\n",
       "0  654.00000  0.471578  0.615197  0.804065  0.026324  0.539946\n",
       "1    0.15246  0.850296  0.637400  0.430813  0.492526  0.522564"
      ]
     },
     "execution_count": 33,
     "metadata": {},
     "output_type": "execute_result"
    }
   ],
   "source": [
    "newdf.head(2)"
   ]
  },
  {
   "cell_type": "code",
   "execution_count": 34,
   "id": "26431dce-43f6-4adc-a621-814f18bc9dd2",
   "metadata": {},
   "outputs": [
    {
     "ename": "ValueError",
     "evalue": "Length mismatch: Expected axis has 6 elements, new values have 5 elements",
     "output_type": "error",
     "traceback": [
      "\u001b[1;31m---------------------------------------------------------------------------\u001b[0m",
      "\u001b[1;31mValueError\u001b[0m                                Traceback (most recent call last)",
      "Cell \u001b[1;32mIn[34], line 1\u001b[0m\n\u001b[1;32m----> 1\u001b[0m \u001b[43mnewdf2\u001b[49m\u001b[38;5;241;43m.\u001b[39;49m\u001b[43mcolumns\u001b[49m \u001b[38;5;241m=\u001b[39m \u001b[38;5;28mlist\u001b[39m(\u001b[38;5;124m\"\u001b[39m\u001b[38;5;124mABCDE\u001b[39m\u001b[38;5;124m\"\u001b[39m) \u001b[38;5;66;03m#allocates the columns with ABCDE\u001b[39;00m\n",
      "File \u001b[1;32m~\\AppData\\Local\\Programs\\Python\\Python311\\Lib\\site-packages\\pandas\\core\\generic.py:6002\u001b[0m, in \u001b[0;36mNDFrame.__setattr__\u001b[1;34m(self, name, value)\u001b[0m\n\u001b[0;32m   6000\u001b[0m \u001b[38;5;28;01mtry\u001b[39;00m:\n\u001b[0;32m   6001\u001b[0m     \u001b[38;5;28mobject\u001b[39m\u001b[38;5;241m.\u001b[39m\u001b[38;5;21m__getattribute__\u001b[39m(\u001b[38;5;28mself\u001b[39m, name)\n\u001b[1;32m-> 6002\u001b[0m     \u001b[38;5;28;01mreturn\u001b[39;00m \u001b[38;5;28;43mobject\u001b[39;49m\u001b[38;5;241;43m.\u001b[39;49m\u001b[38;5;21;43m__setattr__\u001b[39;49m\u001b[43m(\u001b[49m\u001b[38;5;28;43mself\u001b[39;49m\u001b[43m,\u001b[49m\u001b[43m \u001b[49m\u001b[43mname\u001b[49m\u001b[43m,\u001b[49m\u001b[43m \u001b[49m\u001b[43mvalue\u001b[49m\u001b[43m)\u001b[49m\n\u001b[0;32m   6003\u001b[0m \u001b[38;5;28;01mexcept\u001b[39;00m \u001b[38;5;167;01mAttributeError\u001b[39;00m:\n\u001b[0;32m   6004\u001b[0m     \u001b[38;5;28;01mpass\u001b[39;00m\n",
      "File \u001b[1;32m~\\AppData\\Local\\Programs\\Python\\Python311\\Lib\\site-packages\\pandas\\_libs\\properties.pyx:69\u001b[0m, in \u001b[0;36mpandas._libs.properties.AxisProperty.__set__\u001b[1;34m()\u001b[0m\n",
      "File \u001b[1;32m~\\AppData\\Local\\Programs\\Python\\Python311\\Lib\\site-packages\\pandas\\core\\generic.py:730\u001b[0m, in \u001b[0;36mNDFrame._set_axis\u001b[1;34m(self, axis, labels)\u001b[0m\n\u001b[0;32m    725\u001b[0m \u001b[38;5;250m\u001b[39m\u001b[38;5;124;03m\"\"\"\u001b[39;00m\n\u001b[0;32m    726\u001b[0m \u001b[38;5;124;03mThis is called from the cython code when we set the `index` attribute\u001b[39;00m\n\u001b[0;32m    727\u001b[0m \u001b[38;5;124;03mdirectly, e.g. `series.index = [1, 2, 3]`.\u001b[39;00m\n\u001b[0;32m    728\u001b[0m \u001b[38;5;124;03m\"\"\"\u001b[39;00m\n\u001b[0;32m    729\u001b[0m labels \u001b[38;5;241m=\u001b[39m ensure_index(labels)\n\u001b[1;32m--> 730\u001b[0m \u001b[38;5;28;43mself\u001b[39;49m\u001b[38;5;241;43m.\u001b[39;49m\u001b[43m_mgr\u001b[49m\u001b[38;5;241;43m.\u001b[39;49m\u001b[43mset_axis\u001b[49m\u001b[43m(\u001b[49m\u001b[43maxis\u001b[49m\u001b[43m,\u001b[49m\u001b[43m \u001b[49m\u001b[43mlabels\u001b[49m\u001b[43m)\u001b[49m\n\u001b[0;32m    731\u001b[0m \u001b[38;5;28mself\u001b[39m\u001b[38;5;241m.\u001b[39m_clear_item_cache()\n",
      "File \u001b[1;32m~\\AppData\\Local\\Programs\\Python\\Python311\\Lib\\site-packages\\pandas\\core\\internals\\managers.py:225\u001b[0m, in \u001b[0;36mBaseBlockManager.set_axis\u001b[1;34m(self, axis, new_labels)\u001b[0m\n\u001b[0;32m    223\u001b[0m \u001b[38;5;28;01mdef\u001b[39;00m \u001b[38;5;21mset_axis\u001b[39m(\u001b[38;5;28mself\u001b[39m, axis: AxisInt, new_labels: Index) \u001b[38;5;241m-\u001b[39m\u001b[38;5;241m>\u001b[39m \u001b[38;5;28;01mNone\u001b[39;00m:\n\u001b[0;32m    224\u001b[0m     \u001b[38;5;66;03m# Caller is responsible for ensuring we have an Index object.\u001b[39;00m\n\u001b[1;32m--> 225\u001b[0m     \u001b[38;5;28;43mself\u001b[39;49m\u001b[38;5;241;43m.\u001b[39;49m\u001b[43m_validate_set_axis\u001b[49m\u001b[43m(\u001b[49m\u001b[43maxis\u001b[49m\u001b[43m,\u001b[49m\u001b[43m \u001b[49m\u001b[43mnew_labels\u001b[49m\u001b[43m)\u001b[49m\n\u001b[0;32m    226\u001b[0m     \u001b[38;5;28mself\u001b[39m\u001b[38;5;241m.\u001b[39maxes[axis] \u001b[38;5;241m=\u001b[39m new_labels\n",
      "File \u001b[1;32m~\\AppData\\Local\\Programs\\Python\\Python311\\Lib\\site-packages\\pandas\\core\\internals\\base.py:70\u001b[0m, in \u001b[0;36mDataManager._validate_set_axis\u001b[1;34m(self, axis, new_labels)\u001b[0m\n\u001b[0;32m     67\u001b[0m     \u001b[38;5;28;01mpass\u001b[39;00m\n\u001b[0;32m     69\u001b[0m \u001b[38;5;28;01melif\u001b[39;00m new_len \u001b[38;5;241m!=\u001b[39m old_len:\n\u001b[1;32m---> 70\u001b[0m     \u001b[38;5;28;01mraise\u001b[39;00m \u001b[38;5;167;01mValueError\u001b[39;00m(\n\u001b[0;32m     71\u001b[0m         \u001b[38;5;124mf\u001b[39m\u001b[38;5;124m\"\u001b[39m\u001b[38;5;124mLength mismatch: Expected axis has \u001b[39m\u001b[38;5;132;01m{\u001b[39;00mold_len\u001b[38;5;132;01m}\u001b[39;00m\u001b[38;5;124m elements, new \u001b[39m\u001b[38;5;124m\"\u001b[39m\n\u001b[0;32m     72\u001b[0m         \u001b[38;5;124mf\u001b[39m\u001b[38;5;124m\"\u001b[39m\u001b[38;5;124mvalues have \u001b[39m\u001b[38;5;132;01m{\u001b[39;00mnew_len\u001b[38;5;132;01m}\u001b[39;00m\u001b[38;5;124m elements\u001b[39m\u001b[38;5;124m\"\u001b[39m\n\u001b[0;32m     73\u001b[0m     )\n",
      "\u001b[1;31mValueError\u001b[0m: Length mismatch: Expected axis has 6 elements, new values have 5 elements"
     ]
    }
   ],
   "source": [
    "newdf2.columns = list(\"ABCDE\") #allocates the columns with ABCDE"
   ]
  },
  {
   "cell_type": "code",
   "execution_count": null,
   "id": "501c33a6-3810-4024-9908-c5694e058ee8",
   "metadata": {},
   "outputs": [],
   "source": [
    "newdf.dtypes"
   ]
  },
  {
   "cell_type": "code",
   "execution_count": null,
   "id": "33c62f87-d395-4a51-82bf-7dac291a35e3",
   "metadata": {},
   "outputs": [],
   "source": [
    " newdf[0][0] = \"Priyanshu\""
   ]
  },
  {
   "cell_type": "code",
   "execution_count": null,
   "id": "48e6f7a2-0561-4981-b1fe-60b60a3f1c50",
   "metadata": {},
   "outputs": [],
   "source": [
    "newdf.dtypes"
   ]
  },
  {
   "cell_type": "code",
   "execution_count": null,
   "id": "c3cb357c-ff1f-418c-bd7f-2f83ac1a43bc",
   "metadata": {},
   "outputs": [],
   "source": [
    "newdf.head()"
   ]
  },
  {
   "cell_type": "code",
   "execution_count": null,
   "id": "4e4ca228-869f-4acc-a6bb-9ed15ad91ebd",
   "metadata": {},
   "outputs": [],
   "source": [
    "newdf.index"
   ]
  },
  {
   "cell_type": "code",
   "execution_count": null,
   "id": "64b23add-ee05-43ff-ad10-39d0f21a68bd",
   "metadata": {},
   "outputs": [],
   "source": [
    "newdf.drop(0, axis=1) #drop the selected axis=1 i.e. columns"
   ]
  },
  {
   "cell_type": "code",
   "execution_count": null,
   "id": "d099da5a-5ef2-440e-a60f-7b04b93fe07b",
   "metadata": {},
   "outputs": [],
   "source": [
    "newdf.drop(0, axis=0) #drops the selected axis=0 i.e. rows"
   ]
  },
  {
   "cell_type": "code",
   "execution_count": null,
   "id": "69b5aecb-62c5-4df8-9b0f-b0610e073a93",
   "metadata": {},
   "outputs": [],
   "source": [
    "newdf.loc[[1,2], [3,4]] #prints the selected rows and columns"
   ]
  },
  {
   "cell_type": "code",
   "execution_count": null,
   "id": "2c4ca0cd-17ab-4c3d-9256-60a0cd2983ff",
   "metadata": {},
   "outputs": [],
   "source": [
    "newdf.loc[:, [3,4]] #prints all the rows of the selected columns"
   ]
  },
  {
   "cell_type": "code",
   "execution_count": null,
   "id": "a79cac67-7075-4041-83ce-4343980cd3b3",
   "metadata": {},
   "outputs": [],
   "source": [
    "newdf.loc[[1,2], :] #prints all the columns of the selected rows"
   ]
  },
  {
   "cell_type": "code",
   "execution_count": null,
   "id": "403476fc-f83b-465e-b736-677dcbe244fb",
   "metadata": {},
   "outputs": [],
   "source": [
    "newdf.loc[(newdf[1]<0.7)] #printed the rows which has the vlaues less than 0.7 of the selected column 1"
   ]
  },
  {
   "cell_type": "code",
   "execution_count": null,
   "id": "41a56c43-abd9-43d7-8bfa-861abc04531a",
   "metadata": {},
   "outputs": [],
   "source": [
    "newdf.head(2)"
   ]
  },
  {
   "cell_type": "code",
   "execution_count": null,
   "id": "92a19423-d451-4293-a5fd-6cf414a71694",
   "metadata": {},
   "outputs": [],
   "source": [
    "newdf.iloc[0,4] #prints the value acc. to the indexing"
   ]
  },
  {
   "cell_type": "code",
   "execution_count": null,
   "id": "a368d2b6-2d91-4579-a5b2-2be36e2e4928",
   "metadata": {},
   "outputs": [],
   "source": [
    "newdf.iloc[[0,5],[1,2]] #prints the vlues of selected index"
   ]
  },
  {
   "cell_type": "code",
   "execution_count": null,
   "id": "1b29f9ca-aa38-42d1-a077-2e879cea117a",
   "metadata": {},
   "outputs": [],
   "source": [
    "newdf.drop([1,3],axis=0, inplace=True) #temporarily deletes the selected row and column in the original dataframe axis=0 for deleting the row and axis=1 for deleting columns"
   ]
  },
  {
   "cell_type": "code",
   "execution_count": null,
   "id": "434fc52f-e846-4982-907c-ffacc80bd2f6",
   "metadata": {},
   "outputs": [],
   "source": [
    "newdf"
   ]
  },
  {
   "cell_type": "code",
   "execution_count": null,
   "id": "5e0a1026-2558-4fd7-8fac-1db59eb88fd8",
   "metadata": {},
   "outputs": [],
   "source": [
    "newdf.reset_index() #resets the data in the dataframe"
   ]
  },
  {
   "cell_type": "code",
   "execution_count": null,
   "id": "0567e488-e9ff-4a55-ada8-59e0df065d8e",
   "metadata": {},
   "outputs": [],
   "source": [
    "newdf.reset_index(drop=True, inplace=True)\n",
    "newdf"
   ]
  },
  {
   "cell_type": "code",
   "execution_count": null,
   "id": "d8e79925-9b6c-4343-a38b-a3459fc6c90c",
   "metadata": {},
   "outputs": [],
   "source": [
    "newdf.head(3)"
   ]
  },
  {
   "cell_type": "code",
   "execution_count": null,
   "id": "7499f93c-b6dd-4abb-9657-f8b6d4206538",
   "metadata": {},
   "outputs": [],
   "source": [
    "newdf[3].isnull() #prints the the which are null"
   ]
  },
  {
   "cell_type": "code",
   "execution_count": null,
   "id": "a62605dc-61b5-49e9-9dec-b331972ee9c0",
   "metadata": {},
   "outputs": [],
   "source": [
    "newdf[3]=None"
   ]
  },
  {
   "cell_type": "code",
   "execution_count": null,
   "id": "29e39b31-99ca-42a2-a949-67a93d0a57ef",
   "metadata": {},
   "outputs": [],
   "source": [
    "newdf[3].isnull()"
   ]
  },
  {
   "cell_type": "code",
   "execution_count": null,
   "id": "5770d78c-ec33-4cdd-8d0c-d08c8ff1ac46",
   "metadata": {},
   "outputs": [],
   "source": [
    "newdf.loc[:, [3]]=56 #it denotes the value for the whole column"
   ]
  },
  {
   "cell_type": "code",
   "execution_count": null,
   "id": "69b81bb5-47bc-4472-a2c8-e72ac5228518",
   "metadata": {},
   "outputs": [],
   "source": [
    "newdf"
   ]
  },
  {
   "cell_type": "code",
   "execution_count": null,
   "id": "3b84e858-6861-4fa9-846f-ef8dd57826b1",
   "metadata": {},
   "outputs": [],
   "source": [
    "newdf.loc[[3], :]=56 "
   ]
  },
  {
   "cell_type": "code",
   "execution_count": null,
   "id": "d8827f2b-9328-4de4-9ce2-51f2e61c3a8b",
   "metadata": {},
   "outputs": [],
   "source": [
    "newdf"
   ]
  },
  {
   "cell_type": "code",
   "execution_count": null,
   "id": "b2f91726-e655-4f4f-8f0f-7e4daef3b1b0",
   "metadata": {},
   "outputs": [],
   "source": [
    "df= pd.DataFrame({\"name\": ['Priyanshu', 'Kumar', 'Sharma'],\n",
    "                \"rollno.\": [np.nan, 10, 24],\n",
    "                \"born\": [pd.NaT, pd.Timestamp(\"2004-10-17\"), pd.NaT]})"
   ]
  },
  {
   "cell_type": "code",
   "execution_count": null,
   "id": "9339ad34-a7f5-43c6-b0d4-5a960ff11af9",
   "metadata": {},
   "outputs": [],
   "source": [
    "df"
   ]
  },
  {
   "cell_type": "code",
   "execution_count": null,
   "id": "2bc245f9-1291-480c-9909-89bf2d142a4c",
   "metadata": {},
   "outputs": [],
   "source": [
    "df.dropna() #drops the nan value from the data"
   ]
  },
  {
   "cell_type": "code",
   "execution_count": null,
   "id": "a7abcd5c-0e7a-425b-b086-9f3426efa7ab",
   "metadata": {},
   "outputs": [],
   "source": [
    "df1= pd.DataFrame({\"name\": ['Priyanshu', 'Kumar', 'Sharma'],\n",
    "                \"rollno.\": [np.nan,  np.nan, np.nan],\n",
    "                \"born\": [pd.NaT, pd.Timestamp(\"2004-10-17\"), pd.NaT]})"
   ]
  },
  {
   "cell_type": "code",
   "execution_count": null,
   "id": "67315dad-471d-4d10-9334-1a4ffceb3651",
   "metadata": {},
   "outputs": [],
   "source": [
    "df1.dropna(how='all', axis=1) #drops the column which has nan values"
   ]
  },
  {
   "cell_type": "code",
   "execution_count": null,
   "id": "69d8be5a-467a-48c7-9ddd-4b47771509c3",
   "metadata": {},
   "outputs": [],
   "source": [
    "df2= pd.DataFrame({\"name\": ['Priyanshu', 'Kumar', 'Priyanshu'],\n",
    "                \"rollno.\": [np.nan,  np.nan, np.nan],\n",
    "                \"born\": [pd.NaT, pd.Timestamp(\"2004-10-17\"), pd.NaT]})"
   ]
  },
  {
   "cell_type": "code",
   "execution_count": null,
   "id": "7083fa22-63e1-49ad-9e09-3dadb034fe0a",
   "metadata": {},
   "outputs": [],
   "source": [
    "df2.drop_duplicates(subset=['name']) #drops the duplicate data entry"
   ]
  },
  {
   "cell_type": "code",
   "execution_count": null,
   "id": "b9e8caae-477a-4c45-8193-3a830ca622f9",
   "metadata": {},
   "outputs": [],
   "source": [
    "print(df2.drop_duplicates(subset=['name'], keep='first')) #drops the data entry"
   ]
  },
  {
   "cell_type": "code",
   "execution_count": null,
   "id": "63777a8b-8711-4dc9-b922-64ac9a70b21d",
   "metadata": {},
   "outputs": [],
   "source": [
    "print(df2.drop_duplicates(subset=['name'], keep='last')) #drops the first data entry"
   ]
  },
  {
   "cell_type": "code",
   "execution_count": null,
   "id": "d65fe0a8-dbb2-4543-af06-e0b0fb835b9b",
   "metadata": {},
   "outputs": [],
   "source": [
    "print(df2.drop_duplicates(subset=['name'], keep=False)) #drops the first and last data entry"
   ]
  },
  {
   "cell_type": "code",
   "execution_count": null,
   "id": "f6c63bc3-582a-4a59-a7cd-783b312b333e",
   "metadata": {},
   "outputs": [],
   "source": [
    "df.shape"
   ]
  },
  {
   "cell_type": "code",
   "execution_count": null,
   "id": "cf307b27-195e-44b2-b89f-0b52954efbdf",
   "metadata": {},
   "outputs": [],
   "source": [
    "df.info()"
   ]
  },
  {
   "cell_type": "code",
   "execution_count": null,
   "id": "14a8a2b9-6754-4f17-9fd7-c0c4c1787b68",
   "metadata": {},
   "outputs": [],
   "source": [
    "df['born'].value_counts(dropna=False) #drops the na"
   ]
  },
  {
   "cell_type": "code",
   "execution_count": null,
   "id": "773bf43d-4d10-4942-acab-c0571f2a4c14",
   "metadata": {},
   "outputs": [],
   "source": [
    "df.notnull() #prints in the format of True and false if null then false"
   ]
  },
  {
   "cell_type": "code",
   "execution_count": null,
   "id": "e0b6149c-293f-4f4a-b228-e78576551a3b",
   "metadata": {},
   "outputs": [],
   "source": [
    "df.isnull() #prints the opposite of notnull()"
   ]
  },
  {
   "cell_type": "markdown",
   "id": "ef4cf9c3-2dc9-4c0c-8606-54f95d2e40a6",
   "metadata": {},
   "source": [
    "Que Practice\n",
    "1. create a dataframe which contains only integeres with 3 rows and 2 columns\n",
    "2. run the following dataframe methods on them:\n",
    "\n",
    "i. df.describe()\n",
    "ii. df.meam()\n",
    "iii. df.corr()\n",
    "iv. df.count()\n",
    "v. df.max()\n",
    "vi. df.min()\n",
    "vii. df.std()\n",
    "viii. "
   ]
  },
  {
   "cell_type": "code",
   "execution_count": null,
   "id": "4f1578d4-f12c-4be0-860f-b13224e0c640",
   "metadata": {},
   "outputs": [],
   "source": [
    "#pip install xlrd\n",
    "#pip install openpyxl"
   ]
  },
  {
   "cell_type": "code",
   "execution_count": null,
   "id": "5b5ec00e-0de6-4fa1-8253-bf72fa28fa8f",
   "metadata": {},
   "outputs": [],
   "source": [
    "data=pd.read_excel('data.xlsx')"
   ]
  },
  {
   "cell_type": "code",
   "execution_count": null,
   "id": "b7d8d0f4-6452-49c4-9dcf-c33c7ab0b7d3",
   "metadata": {},
   "outputs": [],
   "source": [
    "data"
   ]
  },
  {
   "cell_type": "code",
   "execution_count": null,
   "id": "23cc2a7c-425c-4c1f-8af2-a1dadccaf206",
   "metadata": {},
   "outputs": [],
   "source": [
    "data=pd.read_excel('data.xlsx', sheet_name='sharma')\n",
    "data #prints the dataframe of the selected sheet of the same excel"
   ]
  },
  {
   "cell_type": "code",
   "execution_count": null,
   "id": "8a5461b9-04b8-4241-8477-7d34d55a21b2",
   "metadata": {},
   "outputs": [],
   "source": [
    "data1=pd.read_excel('data.xlsx', sheet_name='Sheet1')\n",
    "data1 #prints the dataframe of the selected sheet of the same excel"
   ]
  },
  {
   "cell_type": "code",
   "execution_count": null,
   "id": "66927b3f-db64-420e-89ab-45a3d7c2920f",
   "metadata": {},
   "outputs": [],
   "source": [
    "data.iloc[0,0]=45"
   ]
  },
  {
   "cell_type": "code",
   "execution_count": null,
   "id": "c2cad4e4-26ef-4221-8ec4-2b596d5c3983",
   "metadata": {},
   "outputs": [],
   "source": [
    "data"
   ]
  },
  {
   "cell_type": "code",
   "execution_count": null,
   "id": "dc858778-e3df-4327-ac3d-ecce7669a6c8",
   "metadata": {},
   "outputs": [],
   "source": [
    "#data=data.to_excel('data.xlsx', sheet_name='Sheet1')"
   ]
  },
  {
   "cell_type": "code",
   "execution_count": null,
   "id": "2b478772-19cc-4325-beaa-f19eb6ea293c",
   "metadata": {},
   "outputs": [],
   "source": [
    "dis={\"a\":[1,2,3,4,5], \"b\":[5,6,7,8,9]}\n",
    "dis"
   ]
  },
  {
   "cell_type": "code",
   "execution_count": null,
   "id": "a2b15926-6b88-4a29-b6a6-625155756ebd",
   "metadata": {},
   "outputs": [],
   "source": [
    "d=pd.DataFrame(dis)\n",
    "d"
   ]
  },
  {
   "cell_type": "code",
   "execution_count": null,
   "id": "8f7c7f5b-1e1f-4592-a3ee-a72085aca764",
   "metadata": {},
   "outputs": [],
   "source": [
    "d.to_csv(\"solo1.csv\", index=False)"
   ]
  },
  {
   "cell_type": "code",
   "execution_count": null,
   "id": "8505eb50-8d56-49a0-8ab3-9bfd44fb9e4e",
   "metadata": {},
   "outputs": [],
   "source": [
    "pd.read_csv('solo1.csv')"
   ]
  }
 ],
 "metadata": {
  "kernelspec": {
   "display_name": "Python 3 (ipykernel)",
   "language": "python",
   "name": "python3"
  },
  "language_info": {
   "codemirror_mode": {
    "name": "ipython",
    "version": 3
   },
   "file_extension": ".py",
   "mimetype": "text/x-python",
   "name": "python",
   "nbconvert_exporter": "python",
   "pygments_lexer": "ipython3",
   "version": "3.11.4"
  }
 },
 "nbformat": 4,
 "nbformat_minor": 5
}
